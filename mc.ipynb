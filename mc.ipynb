{
 "cells": [
  {
   "cell_type": "markdown",
   "metadata": {},
   "source": [
    "# 5 Monte carlo simulation\n"
   ]
  },
  {
   "cell_type": "markdown",
   "metadata": {},
   "source": [
    "1. Assume that X ∼ N (0, 1) is standard normal. Estimate the mean value E(cos2(X)).\n",
    "Quantify the uncertainty on your result"
   ]
  },
  {
   "cell_type": "code",
   "execution_count": 2,
   "metadata": {},
   "outputs": [
    {
     "name": "stdout",
     "output_type": "stream",
     "text": [
      "Estimated E(cos²(X)): 0.5673\n",
      "Standard Error: 0.0011\n"
     ]
    }
   ],
   "source": [
    "import numpy as np\n",
    "\n",
    "# generate samples\n",
    "n = 100000\n",
    "X = np.random.normal(0, 1, n)\n",
    "\n",
    "# apply the function phi to each sample\n",
    "phi_X = np.cos(X) ** 2\n",
    "\n",
    "mean = np.mean(phi_X)\n",
    "sd = np.std(phi_X) / np.sqrt(n)\n",
    "\n",
    "print(\"Estimated E(cos²(X)): {:.4f}\".format(mean))\n",
    "print(\"Standard Error: {:.4f}\".format(sd))"
   ]
  },
  {
   "cell_type": "markdown",
   "metadata": {},
   "source": [
    "2. Suppose you’re designing a deep neural network that needs to maximize some score function\n",
    "S"
   ]
  },
  {
   "cell_type": "code",
   "execution_count": null,
   "metadata": {},
   "outputs": [],
   "source": [
    "\n",
    "n_simulations = 100000\n",
    "observed_correlation = 0.3\n",
    "\n",
    "\n"
   ]
  },
  {
   "cell_type": "code",
   "execution_count": null,
   "metadata": {},
   "outputs": [],
   "source": []
  }
 ],
 "metadata": {
  "kernelspec": {
   "display_name": "mas",
   "language": "python",
   "name": "python3"
  },
  "language_info": {
   "codemirror_mode": {
    "name": "ipython",
    "version": 3
   },
   "file_extension": ".py",
   "mimetype": "text/x-python",
   "name": "python",
   "nbconvert_exporter": "python",
   "pygments_lexer": "ipython3",
   "version": "3.11.5"
  }
 },
 "nbformat": 4,
 "nbformat_minor": 2
}
